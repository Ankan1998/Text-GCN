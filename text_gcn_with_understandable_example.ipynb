{
  "nbformat": 4,
  "nbformat_minor": 0,
  "metadata": {
    "colab": {
      "name": "text gcn with understandable example.ipynb",
      "provenance": [],
      "toc_visible": true,
      "mount_file_id": "1CwSUEusHH-DK78c9TfjE0Ko1MqZTDui9",
      "authorship_tag": "ABX9TyNzRoWaF7f5FjQeN4SjriOX",
      "include_colab_link": true
    },
    "kernelspec": {
      "name": "python3",
      "display_name": "Python 3"
    },
    "accelerator": "GPU"
  },
  "cells": [
    {
      "cell_type": "markdown",
      "metadata": {
        "id": "view-in-github",
        "colab_type": "text"
      },
      "source": [
        "<a href=\"https://colab.research.google.com/github/Ankan1998/Text-GCN/blob/main/text_gcn_with_understandable_example.ipynb\" target=\"_parent\"><img src=\"https://colab.research.google.com/assets/colab-badge.svg\" alt=\"Open In Colab\"/></a>"
      ]
    },
    {
      "cell_type": "code",
      "metadata": {
        "id": "VTC8OjERJoxJ"
      },
      "source": [
        "import pandas as pd\r\n",
        "import numpy as np"
      ],
      "execution_count": 1,
      "outputs": []
    },
    {
      "cell_type": "markdown",
      "metadata": {
        "id": "Kum4ZQTtr7TY"
      },
      "source": [
        "## Importing dataset"
      ]
    },
    {
      "cell_type": "code",
      "metadata": {
        "id": "zx10iR4zcLBv"
      },
      "source": [
        "# Ankan:0, Segui:1\r\n",
        "X=[\"Ankan is a good boy\",\r\n",
        "   \"Segui is a bad boy\",\r\n",
        "   \"Ankan loves food\",\r\n",
        "   \"Ankan is good in sports\",\r\n",
        "   \"Segui is bad in sports\"]\r\n",
        "Y=[0,1,0,0,1]\r\n"
      ],
      "execution_count": 2,
      "outputs": []
    },
    {
      "cell_type": "markdown",
      "metadata": {
        "id": "VAYUST7rUsFd"
      },
      "source": [
        "## Cleaning Dataset"
      ]
    },
    {
      "cell_type": "code",
      "metadata": {
        "id": "lS_5g7kkS2J_"
      },
      "source": [
        "import re\r\n",
        "import string\r\n",
        "from nltk.corpus import stopwords\r\n",
        "from nltk.stem import PorterStemmer\r\n",
        "\r\n",
        "re_url = re.compile(r'(?:http|ftp|https)://(?:[\\w_-]+(?:(?:\\.[\\w_-]+)+))(?:[\\w.,@?^=%&:/~+#-]*[\\w@?^=%&/~+#-])?')\r\n",
        "re_email = re.compile('(?:[a-z0-9!#$%&\\'*+/=?^_`{|}~-]+(?:\\.[a-z0-9!#$%&\\'*+/=?^_`{|}~-]+)*|\"(?:[\\x01-\\x08\\x0b\\x0c\\x0e-\\x1f\\x21\\x23-\\x5b\\x5d-\\x7f]|\\\\[\\x01-\\x09\\x0b\\x0c\\x0e-\\x7f])*\")@(?:(?:[a-z0-9](?:[a-z0-9-]*[a-z0-9])?\\.)+[a-z0-9](?:[a-z0-9-]*[a-z0-9])?|\\[(?:(?:(2(5[0-5]|[0-4][0-9])|1[0-9][0-9]|[1-9]?[0-9]))\\.){3}(?:(2(5[0-5]|[0-4][0-9])|1[0-9][0-9]|[1-9]?[0-9])|[a-z0-9-]*[a-z0-9]:(?:[\\x01-\\x08\\x0b\\x0c\\x0e-\\x1f\\x21-\\x5a\\x53-\\x7f]|\\\\[\\x01-\\x09\\x0b\\x0c\\x0e-\\x7f])+)\\])')"
      ],
      "execution_count": 3,
      "outputs": []
    },
    {
      "cell_type": "code",
      "metadata": {
        "id": "ATWPKTAsU7Ey"
      },
      "source": [
        "def clean_header(text):\r\n",
        "    text = re.sub(r'(From:\\s+[^\\n]+\\n)', '', text)\r\n",
        "    text = re.sub(r'(Subject:[^\\n]+\\n)', '', text)\r\n",
        "    text = re.sub(r'(([\\sA-Za-z0-9\\-]+)?[A|a]rchive-name:[^\\n]+\\n)', '', text)\r\n",
        "    text = re.sub(r'(Last-modified:[^\\n]+\\n)', '', text)\r\n",
        "    text = re.sub(r'(Version:[^\\n]+\\n)', '', text)\r\n",
        "\r\n",
        "    return text\r\n",
        "\r\n"
      ],
      "execution_count": 4,
      "outputs": []
    },
    {
      "cell_type": "code",
      "metadata": {
        "id": "tJ2Qihy3dnCQ"
      },
      "source": [
        "for i in range(len(X)):\r\n",
        "  X[i]=clean_header(X[i])"
      ],
      "execution_count": 5,
      "outputs": []
    },
    {
      "cell_type": "code",
      "metadata": {
        "colab": {
          "base_uri": "https://localhost:8080/"
        },
        "id": "755--IscKsZJ",
        "outputId": "ac2af66a-e0a1-4786-a0f6-7fb29068d6f3"
      },
      "source": [
        "X"
      ],
      "execution_count": 6,
      "outputs": [
        {
          "output_type": "execute_result",
          "data": {
            "text/plain": [
              "['Ankan is a good boy',\n",
              " 'Segui is a bad boy',\n",
              " 'Ankan loves food',\n",
              " 'Ankan is good in sports',\n",
              " 'Segui is bad in sports']"
            ]
          },
          "metadata": {
            "tags": []
          },
          "execution_count": 6
        }
      ]
    },
    {
      "cell_type": "code",
      "metadata": {
        "id": "wayEaUZ4djCh"
      },
      "source": [
        "def clean_text(text):        \r\n",
        "    text = text.lower()\r\n",
        "    text = text.strip()\r\n",
        "    text = re.sub(re_url, '', text)\r\n",
        "    text = re.sub(re_email, '', text)\r\n",
        "    text = re.sub(f'[{re.escape(string.punctuation)}]', '', text)\r\n",
        "    text = re.sub(r'(\\d+)', ' ', text)\r\n",
        "    text = re.sub(r'(\\s+)', ' ', text)\r\n",
        "    \r\n",
        "    return text\r\n",
        "\r\n"
      ],
      "execution_count": 7,
      "outputs": []
    },
    {
      "cell_type": "code",
      "metadata": {
        "id": "dsIUaPKndqLX"
      },
      "source": [
        "for i in range(len(X)):\r\n",
        "  X[i]=clean_text(X[i])"
      ],
      "execution_count": 8,
      "outputs": []
    },
    {
      "cell_type": "code",
      "metadata": {
        "colab": {
          "base_uri": "https://localhost:8080/"
        },
        "id": "nPVe732ohPAf",
        "outputId": "754de3b4-91ff-446f-bc9a-cba785179486"
      },
      "source": [
        "import nltk\r\n",
        "nltk.download('stopwords')\r\n",
        "stop_words = stopwords.words('english')"
      ],
      "execution_count": 9,
      "outputs": [
        {
          "output_type": "stream",
          "text": [
            "[nltk_data] Downloading package stopwords to /root/nltk_data...\n",
            "[nltk_data]   Unzipping corpora/stopwords.zip.\n"
          ],
          "name": "stdout"
        }
      ]
    },
    {
      "cell_type": "code",
      "metadata": {
        "id": "CmsEBK8Rfy4B"
      },
      "source": [
        "def rem_stopwords(dataset,stop_words):\r\n",
        "  for i in range(len(dataset)):\r\n",
        "    temp=[]\r\n",
        "    for word in dataset[i].split(\" \"):\r\n",
        "      \r\n",
        "      if word not in stop_words:\r\n",
        "        temp.append(word)\r\n",
        "    p=\" \".join(temp)\r\n",
        "    dataset[i]=p\r\n",
        "  return dataset"
      ],
      "execution_count": 10,
      "outputs": []
    },
    {
      "cell_type": "code",
      "metadata": {
        "id": "j5ERNCr7pOpx"
      },
      "source": [
        "X=rem_stopwords(X,stop_words)"
      ],
      "execution_count": 11,
      "outputs": []
    },
    {
      "cell_type": "code",
      "metadata": {
        "id": "w6VQPtrDZCTj",
        "colab": {
          "base_uri": "https://localhost:8080/"
        },
        "outputId": "1ff16b0c-d2cf-4b04-f759-bc1b117c0126"
      },
      "source": [
        "X"
      ],
      "execution_count": 12,
      "outputs": [
        {
          "output_type": "execute_result",
          "data": {
            "text/plain": [
              "['ankan good boy',\n",
              " 'segui bad boy',\n",
              " 'ankan loves food',\n",
              " 'ankan good sports',\n",
              " 'segui bad sports']"
            ]
          },
          "metadata": {
            "tags": []
          },
          "execution_count": 12
        }
      ]
    },
    {
      "cell_type": "markdown",
      "metadata": {
        "id": "czCFYKSRsE6G"
      },
      "source": [
        "# **GCN preprocessing**"
      ]
    },
    {
      "cell_type": "markdown",
      "metadata": {
        "id": "AwA2AdqosPV_"
      },
      "source": [
        "## TFIDF Vectorizing"
      ]
    },
    {
      "cell_type": "code",
      "metadata": {
        "id": "6u_mHoybLfZz"
      },
      "source": [
        "from sklearn.feature_extraction.text import TfidfVectorizer"
      ],
      "execution_count": 13,
      "outputs": []
    },
    {
      "cell_type": "code",
      "metadata": {
        "id": "JD2znC0qN58C"
      },
      "source": [
        "# Top max features are taken\r\n",
        "vectorizer = TfidfVectorizer(input=\"content\",max_features=None)\r\n",
        "vectors = vectorizer.fit_transform(X)"
      ],
      "execution_count": 14,
      "outputs": []
    },
    {
      "cell_type": "code",
      "metadata": {
        "colab": {
          "base_uri": "https://localhost:8080/"
        },
        "id": "ctlgPkhzSA7-",
        "outputId": "98fe7334-4bbb-4d9b-ef15-e4eb5c831341"
      },
      "source": [
        "vectors"
      ],
      "execution_count": 15,
      "outputs": [
        {
          "output_type": "execute_result",
          "data": {
            "text/plain": [
              "<5x8 sparse matrix of type '<class 'numpy.float64'>'\n",
              "\twith 15 stored elements in Compressed Sparse Row format>"
            ]
          },
          "metadata": {
            "tags": []
          },
          "execution_count": 15
        }
      ]
    },
    {
      "cell_type": "code",
      "metadata": {
        "id": "m_eC6J5VOAJC"
      },
      "source": [
        "df_tfidf = vectors.toarray()\r\n",
        "top_words = vectorizer.get_feature_names()\r\n",
        "top_words = np.array(top_words)\r\n",
        "df_tfidf = pd.DataFrame(df_tfidf,columns=top_words)"
      ],
      "execution_count": 16,
      "outputs": []
    },
    {
      "cell_type": "code",
      "metadata": {
        "colab": {
          "base_uri": "https://localhost:8080/"
        },
        "id": "72kVF_zdLSC_",
        "outputId": "409560c8-2c3a-4a24-897f-213f488dd839"
      },
      "source": [
        "X"
      ],
      "execution_count": 17,
      "outputs": [
        {
          "output_type": "execute_result",
          "data": {
            "text/plain": [
              "['ankan good boy',\n",
              " 'segui bad boy',\n",
              " 'ankan loves food',\n",
              " 'ankan good sports',\n",
              " 'segui bad sports']"
            ]
          },
          "metadata": {
            "tags": []
          },
          "execution_count": 17
        }
      ]
    },
    {
      "cell_type": "code",
      "metadata": {
        "colab": {
          "base_uri": "https://localhost:8080/",
          "height": 195
        },
        "id": "OaYcKrU6W75X",
        "outputId": "124b4686-f796-4deb-af8e-3af438ff878a"
      },
      "source": [
        "df_tfidf"
      ],
      "execution_count": 18,
      "outputs": [
        {
          "output_type": "execute_result",
          "data": {
            "text/html": [
              "<div>\n",
              "<style scoped>\n",
              "    .dataframe tbody tr th:only-of-type {\n",
              "        vertical-align: middle;\n",
              "    }\n",
              "\n",
              "    .dataframe tbody tr th {\n",
              "        vertical-align: top;\n",
              "    }\n",
              "\n",
              "    .dataframe thead th {\n",
              "        text-align: right;\n",
              "    }\n",
              "</style>\n",
              "<table border=\"1\" class=\"dataframe\">\n",
              "  <thead>\n",
              "    <tr style=\"text-align: right;\">\n",
              "      <th></th>\n",
              "      <th>ankan</th>\n",
              "      <th>bad</th>\n",
              "      <th>boy</th>\n",
              "      <th>food</th>\n",
              "      <th>good</th>\n",
              "      <th>loves</th>\n",
              "      <th>segui</th>\n",
              "      <th>sports</th>\n",
              "    </tr>\n",
              "  </thead>\n",
              "  <tbody>\n",
              "    <tr>\n",
              "      <th>0</th>\n",
              "      <td>0.506204</td>\n",
              "      <td>0.00000</td>\n",
              "      <td>0.609818</td>\n",
              "      <td>0.00000</td>\n",
              "      <td>0.609818</td>\n",
              "      <td>0.00000</td>\n",
              "      <td>0.00000</td>\n",
              "      <td>0.000000</td>\n",
              "    </tr>\n",
              "    <tr>\n",
              "      <th>1</th>\n",
              "      <td>0.000000</td>\n",
              "      <td>0.57735</td>\n",
              "      <td>0.577350</td>\n",
              "      <td>0.00000</td>\n",
              "      <td>0.000000</td>\n",
              "      <td>0.00000</td>\n",
              "      <td>0.57735</td>\n",
              "      <td>0.000000</td>\n",
              "    </tr>\n",
              "    <tr>\n",
              "      <th>2</th>\n",
              "      <td>0.427993</td>\n",
              "      <td>0.00000</td>\n",
              "      <td>0.000000</td>\n",
              "      <td>0.63907</td>\n",
              "      <td>0.000000</td>\n",
              "      <td>0.63907</td>\n",
              "      <td>0.00000</td>\n",
              "      <td>0.000000</td>\n",
              "    </tr>\n",
              "    <tr>\n",
              "      <th>3</th>\n",
              "      <td>0.506204</td>\n",
              "      <td>0.00000</td>\n",
              "      <td>0.000000</td>\n",
              "      <td>0.00000</td>\n",
              "      <td>0.609818</td>\n",
              "      <td>0.00000</td>\n",
              "      <td>0.00000</td>\n",
              "      <td>0.609818</td>\n",
              "    </tr>\n",
              "    <tr>\n",
              "      <th>4</th>\n",
              "      <td>0.000000</td>\n",
              "      <td>0.57735</td>\n",
              "      <td>0.000000</td>\n",
              "      <td>0.00000</td>\n",
              "      <td>0.000000</td>\n",
              "      <td>0.00000</td>\n",
              "      <td>0.57735</td>\n",
              "      <td>0.577350</td>\n",
              "    </tr>\n",
              "  </tbody>\n",
              "</table>\n",
              "</div>"
            ],
            "text/plain": [
              "      ankan      bad       boy     food      good    loves    segui    sports\n",
              "0  0.506204  0.00000  0.609818  0.00000  0.609818  0.00000  0.00000  0.000000\n",
              "1  0.000000  0.57735  0.577350  0.00000  0.000000  0.00000  0.57735  0.000000\n",
              "2  0.427993  0.00000  0.000000  0.63907  0.000000  0.63907  0.00000  0.000000\n",
              "3  0.506204  0.00000  0.000000  0.00000  0.609818  0.00000  0.00000  0.609818\n",
              "4  0.000000  0.57735  0.000000  0.00000  0.000000  0.00000  0.57735  0.577350"
            ]
          },
          "metadata": {
            "tags": []
          },
          "execution_count": 18
        }
      ]
    },
    {
      "cell_type": "markdown",
      "metadata": {
        "id": "xTCjiU-CsiQW"
      },
      "source": [
        "## Point-wise Mutual Information"
      ]
    },
    {
      "cell_type": "code",
      "metadata": {
        "id": "04f8sjVUsp35"
      },
      "source": [
        "from collections import OrderedDict\r\n",
        "from tqdm import tqdm"
      ],
      "execution_count": 19,
      "outputs": []
    },
    {
      "cell_type": "code",
      "metadata": {
        "id": "B3tWD2GVSOKM"
      },
      "source": [
        "### PMI between words\r\n",
        "window = 2 # sliding window size to calculate point-wise mutual information between words\r\n",
        "names = top_words\r\n",
        "ncount  = OrderedDict((name, 0) for name in names)\r\n",
        "word_index = OrderedDict((name,index) for index,name in enumerate(names))\r\n"
      ],
      "execution_count": 20,
      "outputs": []
    },
    {
      "cell_type": "code",
      "metadata": {
        "id": "xKCHU6ZX817g"
      },
      "source": [
        "occ = np.zeros( (len(names),len(names)) ,dtype=np.int32)"
      ],
      "execution_count": 21,
      "outputs": []
    },
    {
      "cell_type": "code",
      "metadata": {
        "colab": {
          "base_uri": "https://localhost:8080/"
        },
        "id": "RmUyss2VSo2n",
        "outputId": "70f0bc4a-5a9a-48f8-b394-cedc608fee9f"
      },
      "source": [
        "# Find the co-occurrences:\r\n",
        "# Will take huge tim, so saved as co_mat1000.npy file\r\n",
        "from itertools import combinations\r\n",
        "no_windows = 0\r\n",
        "# taking each data from dataset\r\n",
        "for l in tqdm(X,total=len(X)):\r\n",
        "    # Iterating over each word in the line \"l\"\r\n",
        "    for i in range(len(l.split(\" \"))-window):\r\n",
        "        # Counting windows\r\n",
        "        no_windows += 1\r\n",
        "        # Getting unique words within the window\r\n",
        "        d = set(l.split(\" \")[i:(i+window)])\r\n",
        "        d=d.intersection(set(names))\r\n",
        "        # Counting occurrences of each word on whole document \"ncount\"\r\n",
        "        for w in d:\r\n",
        "            ncount[w] += 1\r\n",
        "        # Combination of two words \r\n",
        "        for w1,w2 in combinations(d,2):\r\n",
        "            i1 = word_index[w1]\r\n",
        "            i2 = word_index[w2]\r\n",
        "            # Counting word-word\r\n",
        "            occ[i1][i2] += 1\r\n",
        "            occ[i2][i1] += 1\r\n",
        "    "
      ],
      "execution_count": 22,
      "outputs": [
        {
          "output_type": "stream",
          "text": [
            "100%|██████████| 5/5 [00:00<00:00, 6736.76it/s]\n"
          ],
          "name": "stderr"
        }
      ]
    },
    {
      "cell_type": "code",
      "metadata": {
        "colab": {
          "base_uri": "https://localhost:8080/"
        },
        "id": "PvRDsJsmLsEK",
        "outputId": "6b95c3b0-97af-4b51-d230-bf4cf38b8688"
      },
      "source": [
        "word_index"
      ],
      "execution_count": 23,
      "outputs": [
        {
          "output_type": "execute_result",
          "data": {
            "text/plain": [
              "OrderedDict([('ankan', 0),\n",
              "             ('bad', 1),\n",
              "             ('boy', 2),\n",
              "             ('food', 3),\n",
              "             ('good', 4),\n",
              "             ('loves', 5),\n",
              "             ('segui', 6),\n",
              "             ('sports', 7)])"
            ]
          },
          "metadata": {
            "tags": []
          },
          "execution_count": 23
        }
      ]
    },
    {
      "cell_type": "code",
      "metadata": {
        "colab": {
          "base_uri": "https://localhost:8080/"
        },
        "id": "YXGqlE1uL595",
        "outputId": "4990f1f5-32ce-40c4-9a84-96342cc5e9f0"
      },
      "source": [
        "occ"
      ],
      "execution_count": 24,
      "outputs": [
        {
          "output_type": "execute_result",
          "data": {
            "text/plain": [
              "array([[0, 0, 0, 0, 2, 1, 0, 0],\n",
              "       [0, 0, 0, 0, 0, 0, 2, 0],\n",
              "       [0, 0, 0, 0, 0, 0, 0, 0],\n",
              "       [0, 0, 0, 0, 0, 0, 0, 0],\n",
              "       [2, 0, 0, 0, 0, 0, 0, 0],\n",
              "       [1, 0, 0, 0, 0, 0, 0, 0],\n",
              "       [0, 2, 0, 0, 0, 0, 0, 0],\n",
              "       [0, 0, 0, 0, 0, 0, 0, 0]], dtype=int32)"
            ]
          },
          "metadata": {
            "tags": []
          },
          "execution_count": 24
        }
      ]
    },
    {
      "cell_type": "code",
      "metadata": {
        "id": "8vdP9GWAX1DR"
      },
      "source": [
        "# convert to PMI\r\n",
        "import math\r\n",
        "p_i_j = pd.DataFrame(occ, index = names,columns=names)/no_windows\r\n",
        "p_i = pd.Series(ncount, index=ncount.keys())/no_windows"
      ],
      "execution_count": 25,
      "outputs": []
    },
    {
      "cell_type": "code",
      "metadata": {
        "colab": {
          "base_uri": "https://localhost:8080/"
        },
        "id": "EriWM8zwYxsk",
        "outputId": "a3f2f100-ab8e-45ab-df77-56ac1a5910b3"
      },
      "source": [
        "p_i"
      ],
      "execution_count": 26,
      "outputs": [
        {
          "output_type": "execute_result",
          "data": {
            "text/plain": [
              "ankan     0.6\n",
              "bad       0.4\n",
              "boy       0.0\n",
              "food      0.0\n",
              "good      0.4\n",
              "loves     0.2\n",
              "segui     0.4\n",
              "sports    0.0\n",
              "dtype: float64"
            ]
          },
          "metadata": {
            "tags": []
          },
          "execution_count": 26
        }
      ]
    },
    {
      "cell_type": "code",
      "metadata": {
        "id": "sRz1pMJP3Oca"
      },
      "source": [
        "for col in p_i_j.columns:\r\n",
        "    p_i_j[col] = p_i_j[col]/p_i[col]\r\n",
        "for row in p_i_j.index:\r\n",
        "    p_i_j.loc[row,:] = p_i_j.loc[row,:]/p_i[row]\r\n",
        "p_i_j = p_i_j + 1E-9\r\n",
        "for col in p_i_j.columns:\r\n",
        "    p_i_j[col] = p_i_j[col].apply(lambda x: math.log(x))"
      ],
      "execution_count": 27,
      "outputs": []
    },
    {
      "cell_type": "code",
      "metadata": {
        "colab": {
          "base_uri": "https://localhost:8080/",
          "height": 284
        },
        "id": "idoEpBwMMSfx",
        "outputId": "da300f73-4f3b-43f0-8414-f57bd1b0a80e"
      },
      "source": [
        "p_i_j"
      ],
      "execution_count": 28,
      "outputs": [
        {
          "output_type": "execute_result",
          "data": {
            "text/html": [
              "<div>\n",
              "<style scoped>\n",
              "    .dataframe tbody tr th:only-of-type {\n",
              "        vertical-align: middle;\n",
              "    }\n",
              "\n",
              "    .dataframe tbody tr th {\n",
              "        vertical-align: top;\n",
              "    }\n",
              "\n",
              "    .dataframe thead th {\n",
              "        text-align: right;\n",
              "    }\n",
              "</style>\n",
              "<table border=\"1\" class=\"dataframe\">\n",
              "  <thead>\n",
              "    <tr style=\"text-align: right;\">\n",
              "      <th></th>\n",
              "      <th>ankan</th>\n",
              "      <th>bad</th>\n",
              "      <th>boy</th>\n",
              "      <th>food</th>\n",
              "      <th>good</th>\n",
              "      <th>loves</th>\n",
              "      <th>segui</th>\n",
              "      <th>sports</th>\n",
              "    </tr>\n",
              "  </thead>\n",
              "  <tbody>\n",
              "    <tr>\n",
              "      <th>ankan</th>\n",
              "      <td>-20.723266</td>\n",
              "      <td>-20.723266</td>\n",
              "      <td>NaN</td>\n",
              "      <td>NaN</td>\n",
              "      <td>0.510826</td>\n",
              "      <td>0.510826</td>\n",
              "      <td>-20.723266</td>\n",
              "      <td>NaN</td>\n",
              "    </tr>\n",
              "    <tr>\n",
              "      <th>bad</th>\n",
              "      <td>-20.723266</td>\n",
              "      <td>-20.723266</td>\n",
              "      <td>NaN</td>\n",
              "      <td>NaN</td>\n",
              "      <td>-20.723266</td>\n",
              "      <td>-20.723266</td>\n",
              "      <td>0.916291</td>\n",
              "      <td>NaN</td>\n",
              "    </tr>\n",
              "    <tr>\n",
              "      <th>boy</th>\n",
              "      <td>NaN</td>\n",
              "      <td>NaN</td>\n",
              "      <td>NaN</td>\n",
              "      <td>NaN</td>\n",
              "      <td>NaN</td>\n",
              "      <td>NaN</td>\n",
              "      <td>NaN</td>\n",
              "      <td>NaN</td>\n",
              "    </tr>\n",
              "    <tr>\n",
              "      <th>food</th>\n",
              "      <td>NaN</td>\n",
              "      <td>NaN</td>\n",
              "      <td>NaN</td>\n",
              "      <td>NaN</td>\n",
              "      <td>NaN</td>\n",
              "      <td>NaN</td>\n",
              "      <td>NaN</td>\n",
              "      <td>NaN</td>\n",
              "    </tr>\n",
              "    <tr>\n",
              "      <th>good</th>\n",
              "      <td>0.510826</td>\n",
              "      <td>-20.723266</td>\n",
              "      <td>NaN</td>\n",
              "      <td>NaN</td>\n",
              "      <td>-20.723266</td>\n",
              "      <td>-20.723266</td>\n",
              "      <td>-20.723266</td>\n",
              "      <td>NaN</td>\n",
              "    </tr>\n",
              "    <tr>\n",
              "      <th>loves</th>\n",
              "      <td>0.510826</td>\n",
              "      <td>-20.723266</td>\n",
              "      <td>NaN</td>\n",
              "      <td>NaN</td>\n",
              "      <td>-20.723266</td>\n",
              "      <td>-20.723266</td>\n",
              "      <td>-20.723266</td>\n",
              "      <td>NaN</td>\n",
              "    </tr>\n",
              "    <tr>\n",
              "      <th>segui</th>\n",
              "      <td>-20.723266</td>\n",
              "      <td>0.916291</td>\n",
              "      <td>NaN</td>\n",
              "      <td>NaN</td>\n",
              "      <td>-20.723266</td>\n",
              "      <td>-20.723266</td>\n",
              "      <td>-20.723266</td>\n",
              "      <td>NaN</td>\n",
              "    </tr>\n",
              "    <tr>\n",
              "      <th>sports</th>\n",
              "      <td>NaN</td>\n",
              "      <td>NaN</td>\n",
              "      <td>NaN</td>\n",
              "      <td>NaN</td>\n",
              "      <td>NaN</td>\n",
              "      <td>NaN</td>\n",
              "      <td>NaN</td>\n",
              "      <td>NaN</td>\n",
              "    </tr>\n",
              "  </tbody>\n",
              "</table>\n",
              "</div>"
            ],
            "text/plain": [
              "            ankan        bad  boy  ...      loves      segui  sports\n",
              "ankan  -20.723266 -20.723266  NaN  ...   0.510826 -20.723266     NaN\n",
              "bad    -20.723266 -20.723266  NaN  ... -20.723266   0.916291     NaN\n",
              "boy           NaN        NaN  NaN  ...        NaN        NaN     NaN\n",
              "food          NaN        NaN  NaN  ...        NaN        NaN     NaN\n",
              "good     0.510826 -20.723266  NaN  ... -20.723266 -20.723266     NaN\n",
              "loves    0.510826 -20.723266  NaN  ... -20.723266 -20.723266     NaN\n",
              "segui  -20.723266   0.916291  NaN  ... -20.723266 -20.723266     NaN\n",
              "sports        NaN        NaN  NaN  ...        NaN        NaN     NaN\n",
              "\n",
              "[8 rows x 8 columns]"
            ]
          },
          "metadata": {
            "tags": []
          },
          "execution_count": 28
        }
      ]
    },
    {
      "cell_type": "code",
      "metadata": {
        "id": "-Rvy9SExjtjL"
      },
      "source": [
        "from itertools import combinations\r\n",
        "def word_word_edges(p_i_j):\r\n",
        "    word_word = []\r\n",
        "    cols = list(p_i_j.columns)\r\n",
        "    cols = [str(w) for w in cols]\r\n",
        "    for w1, w2 in tqdm(combinations(cols, 2)):\r\n",
        "        if (p_i_j.loc[w1,w2] > 0):\r\n",
        "            word_word.append((w1,w2,{\"weight\":p_i_j.loc[w1,w2]}))\r\n",
        "    return word_word"
      ],
      "execution_count": 29,
      "outputs": []
    },
    {
      "cell_type": "code",
      "metadata": {
        "id": "_zolGzjfkbFv",
        "colab": {
          "base_uri": "https://localhost:8080/"
        },
        "outputId": "374f4107-118e-47af-80f1-8a38266d6b46"
      },
      "source": [
        "import networkx as nx\r\n",
        "### Build graph\r\n",
        "G = nx.Graph()\r\n",
        "G.add_nodes_from(df_tfidf.index) ## document nodes\r\n",
        "G.add_nodes_from(top_words) ## word nodes\r\n",
        "### build edges between document-word pairs\r\n",
        "document_word = [(doc,w,{\"weight\":df_tfidf.loc[doc,w]}) for doc in df_tfidf.index for w in df_tfidf.columns]\r\n",
        "G.add_edges_from(document_word)\r\n",
        "### build edges between word-word pairs\r\n",
        "word_word = word_word_edges(p_i_j)\r\n",
        "G.add_edges_from(word_word)"
      ],
      "execution_count": 30,
      "outputs": [
        {
          "output_type": "stream",
          "text": [
            "28it [00:00, 9427.67it/s]\n"
          ],
          "name": "stderr"
        }
      ]
    },
    {
      "cell_type": "code",
      "metadata": {
        "colab": {
          "base_uri": "https://localhost:8080/"
        },
        "id": "LXFTbxBvNpuf",
        "outputId": "0e20423a-8f94-47e5-c79b-d2062cd67375"
      },
      "source": [
        "document_word"
      ],
      "execution_count": 31,
      "outputs": [
        {
          "output_type": "execute_result",
          "data": {
            "text/plain": [
              "[(0, 'ankan', {'weight': 0.5062044059286201}),\n",
              " (0, 'bad', {'weight': 0.0}),\n",
              " (0, 'boy', {'weight': 0.6098184563533858}),\n",
              " (0, 'food', {'weight': 0.0}),\n",
              " (0, 'good', {'weight': 0.6098184563533858}),\n",
              " (0, 'loves', {'weight': 0.0}),\n",
              " (0, 'segui', {'weight': 0.0}),\n",
              " (0, 'sports', {'weight': 0.0}),\n",
              " (1, 'ankan', {'weight': 0.0}),\n",
              " (1, 'bad', {'weight': 0.5773502691896257}),\n",
              " (1, 'boy', {'weight': 0.5773502691896257}),\n",
              " (1, 'food', {'weight': 0.0}),\n",
              " (1, 'good', {'weight': 0.0}),\n",
              " (1, 'loves', {'weight': 0.0}),\n",
              " (1, 'segui', {'weight': 0.5773502691896257}),\n",
              " (1, 'sports', {'weight': 0.0}),\n",
              " (2, 'ankan', {'weight': 0.42799292268317357}),\n",
              " (2, 'bad', {'weight': 0.0}),\n",
              " (2, 'boy', {'weight': 0.0}),\n",
              " (2, 'food', {'weight': 0.6390704413963749}),\n",
              " (2, 'good', {'weight': 0.0}),\n",
              " (2, 'loves', {'weight': 0.6390704413963749}),\n",
              " (2, 'segui', {'weight': 0.0}),\n",
              " (2, 'sports', {'weight': 0.0}),\n",
              " (3, 'ankan', {'weight': 0.5062044059286201}),\n",
              " (3, 'bad', {'weight': 0.0}),\n",
              " (3, 'boy', {'weight': 0.0}),\n",
              " (3, 'food', {'weight': 0.0}),\n",
              " (3, 'good', {'weight': 0.6098184563533858}),\n",
              " (3, 'loves', {'weight': 0.0}),\n",
              " (3, 'segui', {'weight': 0.0}),\n",
              " (3, 'sports', {'weight': 0.6098184563533858}),\n",
              " (4, 'ankan', {'weight': 0.0}),\n",
              " (4, 'bad', {'weight': 0.5773502691896257}),\n",
              " (4, 'boy', {'weight': 0.0}),\n",
              " (4, 'food', {'weight': 0.0}),\n",
              " (4, 'good', {'weight': 0.0}),\n",
              " (4, 'loves', {'weight': 0.0}),\n",
              " (4, 'segui', {'weight': 0.5773502691896257}),\n",
              " (4, 'sports', {'weight': 0.5773502691896257})]"
            ]
          },
          "metadata": {
            "tags": []
          },
          "execution_count": 31
        }
      ]
    },
    {
      "cell_type": "code",
      "metadata": {
        "colab": {
          "base_uri": "https://localhost:8080/"
        },
        "id": "4s-7D7pCNwOn",
        "outputId": "8f4cb06b-f3db-4a3d-ad40-042cb59a54dc"
      },
      "source": [
        "word_word"
      ],
      "execution_count": 32,
      "outputs": [
        {
          "output_type": "execute_result",
          "data": {
            "text/plain": [
              "[('ankan', 'good', {'weight': 0.5108256243659908}),\n",
              " ('ankan', 'loves', {'weight': 0.5108256243659908}),\n",
              " ('bad', 'segui', {'weight': 0.9162907322741551})]"
            ]
          },
          "metadata": {
            "tags": []
          },
          "execution_count": 32
        }
      ]
    },
    {
      "cell_type": "code",
      "metadata": {
        "id": "8400qA1Xj2VL",
        "colab": {
          "base_uri": "https://localhost:8080/",
          "height": 319
        },
        "outputId": "a1b10d65-2cfd-4c64-d319-84b9ffd4207d"
      },
      "source": [
        "nx.draw(G,with_labels = True)"
      ],
      "execution_count": 33,
      "outputs": [
        {
          "output_type": "display_data",
          "data": {
            "image/png": "[encoded data removed]",
            "text/plain": [
              "<Figure size 432x288 with 1 Axes>"
            ]
          },
          "metadata": {
            "tags": []
          }
        }
      ]
    },
    {
      "cell_type": "code",
      "metadata": {
        "id": "NNi46q3hKDrV"
      },
      "source": [
        "import networkx as nx\r\n",
        "# Adjaceny matrix of G\r\n",
        "A = nx.to_numpy_matrix(G, weight=\"weight\") \r\n",
        "# A=A+I\r\n",
        "A = A + np.eye(G.number_of_nodes())\r\n",
        "# Creating degree matrix\r\n",
        "degrees = []\r\n",
        "for d in G.degree(weight=None):\r\n",
        "    if d == 0:\r\n",
        "        degrees.append(0)\r\n",
        "    else:\r\n",
        "        degrees.append(d[1]**(-0.5))\r\n",
        "degrees = np.diag(degrees)\r\n",
        "X = np.eye(G.number_of_nodes()) # Features are just identity matrix\r\n",
        "# Normalized Laplacian \r\n",
        "A_hat = degrees@A@degrees\r\n",
        "f = X \r\n"
      ],
      "execution_count": 34,
      "outputs": []
    },
    {
      "cell_type": "code",
      "metadata": {
        "colab": {
          "base_uri": "https://localhost:8080/"
        },
        "id": "OgZW03ktdnJU",
        "outputId": "9907ef9c-d7d1-46c1-ded2-83ae00d06cbb"
      },
      "source": [
        "A_hat.shape"
      ],
      "execution_count": 36,
      "outputs": [
        {
          "output_type": "execute_result",
          "data": {
            "text/plain": [
              "(13, 13)"
            ]
          },
          "metadata": {
            "tags": []
          },
          "execution_count": 36
        }
      ]
    },
    {
      "cell_type": "code",
      "metadata": {
        "colab": {
          "base_uri": "https://localhost:8080/"
        },
        "id": "2vzV_RxyO7Jj",
        "outputId": "542dcd04-260e-4476-ff03-cbb881246d2e"
      },
      "source": [
        "X"
      ],
      "execution_count": 37,
      "outputs": [
        {
          "output_type": "execute_result",
          "data": {
            "text/plain": [
              "array([[1., 0., 0., 0., 0., 0., 0., 0., 0., 0., 0., 0., 0.],\n",
              "       [0., 1., 0., 0., 0., 0., 0., 0., 0., 0., 0., 0., 0.],\n",
              "       [0., 0., 1., 0., 0., 0., 0., 0., 0., 0., 0., 0., 0.],\n",
              "       [0., 0., 0., 1., 0., 0., 0., 0., 0., 0., 0., 0., 0.],\n",
              "       [0., 0., 0., 0., 1., 0., 0., 0., 0., 0., 0., 0., 0.],\n",
              "       [0., 0., 0., 0., 0., 1., 0., 0., 0., 0., 0., 0., 0.],\n",
              "       [0., 0., 0., 0., 0., 0., 1., 0., 0., 0., 0., 0., 0.],\n",
              "       [0., 0., 0., 0., 0., 0., 0., 1., 0., 0., 0., 0., 0.],\n",
              "       [0., 0., 0., 0., 0., 0., 0., 0., 1., 0., 0., 0., 0.],\n",
              "       [0., 0., 0., 0., 0., 0., 0., 0., 0., 1., 0., 0., 0.],\n",
              "       [0., 0., 0., 0., 0., 0., 0., 0., 0., 0., 1., 0., 0.],\n",
              "       [0., 0., 0., 0., 0., 0., 0., 0., 0., 0., 0., 1., 0.],\n",
              "       [0., 0., 0., 0., 0., 0., 0., 0., 0., 0., 0., 0., 1.]])"
            ]
          },
          "metadata": {
            "tags": []
          },
          "execution_count": 37
        }
      ]
    },
    {
      "cell_type": "markdown",
      "metadata": {
        "id": "-PWB6RZkmNU5"
      },
      "source": [
        "## Pytorch Model"
      ]
    },
    {
      "cell_type": "code",
      "metadata": {
        "id": "nbF7EDLAcTdL"
      },
      "source": [
        "# Simplified GCN \r\n",
        "import torch\r\n",
        "import torch.nn as nn\r\n",
        "import torch.nn.functional as F\r\n",
        "class GCNLayer(nn.Module):\r\n",
        "    def __init__(self, in_dim, out_dim, acti=True):\r\n",
        "        super(GCNLayer, self).__init__()\r\n",
        "        self.linear = nn.Linear(in_dim, out_dim) # bias = False \r\n",
        "        if acti:\r\n",
        "            self.acti = nn.ReLU(inplace=True)\r\n",
        "        else:\r\n",
        "            self.acti = None\r\n",
        "    def forward(self, F):\r\n",
        "        output = self.linear(F)\r\n",
        "        if not self.acti:\r\n",
        "            return output\r\n",
        "        return self.acti(output)\r\n",
        "\r\n",
        "\r\n",
        "class GCN(nn.Module):\r\n",
        "    def __init__(self, input_dim, hidden_dim, num_classes, p):\r\n",
        "        super(GCN, self).__init__()\r\n",
        "        self.gcn_layer1 = GCNLayer(input_dim, hidden_dim)\r\n",
        "        self.gcn_layer2 = GCNLayer(hidden_dim, num_classes, acti=False)\r\n",
        "        self.dropout = nn.Dropout(p)\r\n",
        "\r\n",
        "    def forward(self, A, X):\r\n",
        "        A = torch.tensor(A, requires_grad=False).float()\r\n",
        "        F = torch.mm(A, X)\r\n",
        "        F = self.gcn_layer1(F)\r\n",
        "        F = self.dropout(F)\r\n",
        "        F = torch.mm(A, F)\r\n",
        "        output = self.gcn_layer2(F)\r\n",
        "        return output"
      ],
      "execution_count": 40,
      "outputs": []
    },
    {
      "cell_type": "code",
      "metadata": {
        "id": "PHrShk9OcbN9"
      },
      "source": [
        "net1 = GCN(X.shape[1], hidden_dim=20,num_classes=2,p=0.1)"
      ],
      "execution_count": 52,
      "outputs": []
    },
    {
      "cell_type": "code",
      "metadata": {
        "id": "sd9f8l9Um76s"
      },
      "source": [
        "lr=0.01\r\n",
        "criterion = nn.CrossEntropyLoss()\r\n",
        "optimizer = torch.optim.Adam(net1.parameters(), lr=lr)"
      ],
      "execution_count": 53,
      "outputs": []
    },
    {
      "cell_type": "code",
      "metadata": {
        "id": "hICtmKQS566N"
      },
      "source": [
        "device = torch.device(\"cuda\" if torch.cuda.is_available() else \"cpu\")"
      ],
      "execution_count": null,
      "outputs": []
    },
    {
      "cell_type": "code",
      "metadata": {
        "id": "EYYKTDEj6HWG"
      },
      "source": [
        "net1=net1.to(device)"
      ],
      "execution_count": null,
      "outputs": []
    },
    {
      "cell_type": "code",
      "metadata": {
        "id": "0-2PLFo29NOZ"
      },
      "source": [
        "# transforming from numpy array to tensor\r\n",
        "f = torch.from_numpy(f).float()\r\n",
        "Y=torch.FloatTensor(Y)"
      ],
      "execution_count": 45,
      "outputs": []
    },
    {
      "cell_type": "code",
      "metadata": {
        "id": "kmpOMCfHrKzs",
        "colab": {
          "base_uri": "https://localhost:8080/"
        },
        "outputId": "697e810b-4958-43eb-c406-2b557e70361e"
      },
      "source": [
        "# Training\r\n",
        "num_epochs=100\r\n",
        "losses_per_epoch=[]\r\n",
        "for epoch in range(num_epochs):\r\n",
        "    output = net1(A_hat,f)\r\n",
        "    labels = Y.to(dtype=torch.long)\r\n",
        "    loss = criterion(output[:5,:], torch.tensor(labels[:5]))\r\n",
        "    losses_per_epoch.append(loss.item())\r\n",
        "    # Backward and optimize\r\n",
        "    optimizer.zero_grad()\r\n",
        "    loss.backward()\r\n",
        "    optimizer.step()\r\n",
        "\r\n",
        "    if (epoch+1) % 10 == 0:\r\n",
        "        print (f'Epoch [{epoch+1}/{num_epochs}], Loss: {loss.item():.4f}')"
      ],
      "execution_count": 54,
      "outputs": [
        {
          "output_type": "stream",
          "text": [
            "Epoch [10/100], Loss: 0.6637\n",
            "Epoch [20/100], Loss: 0.6248\n",
            "Epoch [30/100], Loss: 0.5779\n",
            "Epoch [40/100], Loss: 0.4903\n",
            "Epoch [50/100], Loss: 0.4100\n",
            "Epoch [60/100], Loss: 0.2922\n",
            "Epoch [70/100], Loss: 0.2189\n",
            "Epoch [80/100], Loss: 0.1489\n",
            "Epoch [90/100], Loss: 0.0873\n",
            "Epoch [100/100], Loss: 0.0754\n"
          ],
          "name": "stdout"
        },
        {
          "output_type": "stream",
          "text": [
            "/usr/local/lib/python3.6/dist-packages/ipykernel_launcher.py:7: UserWarning: To copy construct from a tensor, it is recommended to use sourceTensor.clone().detach() or sourceTensor.clone().detach().requires_grad_(True), rather than torch.tensor(sourceTensor).\n",
            "  import sys\n"
          ],
          "name": "stderr"
        }
      ]
    },
    {
      "cell_type": "markdown",
      "metadata": {
        "id": "dBD6iidVC-KR"
      },
      "source": [
        "# Citation\r\n"
      ]
    },
    {
      "cell_type": "markdown",
      "metadata": {
        "id": "E93gT2FtDX6-"
      },
      "source": [
        "SEMI-SUPERVISED CLASSIFICATION WITH GRAPH CONVOLUTIONAL NETWORKS\r\n",
        "\r\n",
        "ThomasN.Kipf University of Amsterdam T.N.Kipf@uva.nl\r\n",
        "MaxWelling University of Amsterdam Canadian Institute for Advanced Research (CIFAR) M.Welling@uva.nl\r\n",
        "***********************************************************************\r\n",
        "GraphConvolutionalNetworksforTextClassiﬁcation\r\n",
        "\r\n",
        "LiangYao,ChengshengMao,YuanLuo∗ Northwestern University Chicago IL 60611 {liang.yao, chengsheng.mao, yuan.luo}@northwestern.edu\r\n",
        "\r\n",
        "************************************************************************\r\n"
      ]
    }
  ]
}